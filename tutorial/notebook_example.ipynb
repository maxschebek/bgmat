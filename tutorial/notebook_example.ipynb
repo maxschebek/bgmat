{
 "cells": [
  {
   "cell_type": "code",
   "execution_count": null,
   "metadata": {},
   "outputs": [],
   "source": [
    "%load_ext autoreload\n",
    "%autoreload 2"
   ]
  },
  {
   "cell_type": "code",
   "execution_count": null,
   "metadata": {},
   "outputs": [],
   "source": [
    "%env XLA_PYTHON_CLIENT_MEM_FRACTION=.8\n",
    "\n"
   ]
  },
  {
   "cell_type": "code",
   "execution_count": null,
   "metadata": {},
   "outputs": [],
   "source": [
    "not True"
   ]
  },
  {
   "cell_type": "code",
   "execution_count": null,
   "metadata": {},
   "outputs": [],
   "source": [
    "#!/usr/bin/python\n",
    "#\n",
    "# Copyright 2022 DeepMind Technologies Limited\n",
    "#\n",
    "# Licensed under the Apache License, Version 2.0 (the \"License\");\n",
    "# you may not use this file except in compliance with the License.\n",
    "# You may obtain a copy of the License at\n",
    "#\n",
    "#      http://www.apache.org/licenses/LICENSE-2.0\n",
    "#\n",
    "# Unless required by applicable law or agreed to in writing, software\n",
    "# distributed under the License is distributed on an \"AS IS\" BASIS,\n",
    "# WITHOUT WARRANTIES OR CONDITIONS OF ANY KIND, either express or implied.\n",
    "# See the License for the specific language governing permissions and\n",
    "# limitations under the License.\n",
    "\n",
    "\"\"\"Energy-based training of a flow model on an atomistic system.\"\"\"\n",
    "import numpy as np\n",
    "from bgmat.experiments import   augmented_monatomic_water_config, augmented_lennard_jones_config\n",
    "from bgmat.experiments.augmented_monatomic_water_config import QUIGLEY_DENSITY\n",
    "from matplotlib import pyplot as plt    \n",
    "from bgmat.experiments.train_augmented_nvt import train\n",
    "from bgmat.experiments.evaluate_augmented_nvt import evaluate\n",
    "\n",
    "import jax\n",
    "import jax.numpy as jnp\n",
    "import jax\n",
    "from bgmat.experiments.utils import _extract_lattice_and_number, abs_f_einstein\n",
    "def _num_particles(system: str) -> int:\n",
    "    return int(system.split(\"_\")[-1])\n",
    "from bgmat.systems.monatomic_water import MW_SIGMA\n",
    "\n",
    "# system='lj_32'\n",
    "system = \"mw_cubic_8\"\n",
    "lattice, num_particles = _extract_lattice_and_number(system)\n",
    "\n",
    "config = augmented_monatomic_water_config.get_config(num_particles,lattice)\n",
    "state = config.state"
   ]
  },
  {
   "cell_type": "code",
   "execution_count": null,
   "metadata": {},
   "outputs": [],
   "source": [
    "config.train.seed = np.random.randint(1e3)\n",
    "config.train.num_iterations = 25000\n"
   ]
  },
  {
   "cell_type": "markdown",
   "metadata": {},
   "source": [
    "We train for 25,000 steps, which takes only a few minutes on a GPU and already yields a good ESS for this small system."
   ]
  },
  {
   "cell_type": "code",
   "execution_count": null,
   "metadata": {},
   "outputs": [],
   "source": [
    "train(config, system, job_id=system)"
   ]
  },
  {
   "cell_type": "markdown",
   "metadata": {},
   "source": [
    "## Evaluation"
   ]
  },
  {
   "cell_type": "code",
   "execution_count": null,
   "metadata": {},
   "outputs": [],
   "source": [
    "import pickle\n",
    "with open(f\"params/params-{system}.pkl\", \"rb\") as fp:\n",
    "    params = pickle.load(fp)\n",
    "\n"
   ]
  },
  {
   "cell_type": "code",
   "execution_count": null,
   "metadata": {},
   "outputs": [],
   "source": [
    "from ml_collections import config_dict\n"
   ]
  },
  {
   "cell_type": "markdown",
   "metadata": {},
   "source": [
    "Here we set up how the model will be tested: how many samples to use, how many times to run it, and whether to also evaluate the marginal density.  \n",
    "\n",
    "- **`eval_steps`** – number of evaluation runs to perform.  \n",
    "- **`test_size`** – number of test samples used for each evaluation.  \n",
    "- **`num_splits`** – number of data splits to use during evaluation (reduces memory).  \n",
    "- **`seed`** – random seed for reproducibility, chosen randomly each run.  \n",
    "- **`load_multi_gpu`** – whether to load the model on multiple GPUs for evaluation.  \n",
    "- **`n_marginal`** – number of auxiliary samples drawn when estimating the marginal density.  \n",
    "- **`return_marginal`** – whether to return marginal ESS and free energy estimates.  \n"
   ]
  },
  {
   "cell_type": "code",
   "execution_count": null,
   "metadata": {},
   "outputs": [],
   "source": [
    "config_eval = config_dict.ConfigDict()\n",
    "config_eval.eval_steps=3\n",
    "config_eval.test_size= 1000\n",
    "config_eval.num_splits =1\n",
    "config_eval.seed=np.random.randint(0,1e6)\n",
    "config_eval.n_marginal=20\n",
    "config_eval.return_marginal=True\n",
    "# config_eval.filename=f\"allegro/params-{flow_id}.pkl\"\n",
    "config_eval.filename=f\"params/params-{system}.pkl\"\n"
   ]
  },
  {
   "cell_type": "code",
   "execution_count": null,
   "metadata": {},
   "outputs": [],
   "source": [
    "metrics = evaluate(config, config_eval)\n"
   ]
  },
  {
   "cell_type": "markdown",
   "metadata": {},
   "source": [
    "The reported free energy is not the absolute free energy, but rather the difference relative to the base distribution. The base distribution consists of harmonic oscillators centered at the ideal lattice sites, which in the materials science community is known as the *Einstein crystal*. To obtain the absolute free energy, the contribution of the Einstein crystal must be added.\n"
   ]
  },
  {
   "cell_type": "code",
   "execution_count": null,
   "metadata": {},
   "outputs": [],
   "source": [
    "vol = num_particles / QUIGLEY_DENSITY"
   ]
  },
  {
   "cell_type": "code",
   "execution_count": null,
   "metadata": {},
   "outputs": [],
   "source": [
    "def get_spring_constant(beta, std):\n",
    "        k_EC = 1.0 / (2.0 * beta * std**2)\n",
    "        return k_EC\n",
    "\n",
    "k_EC = get_spring_constant(state.beta, config.model.kwargs.base.kwargs.noise_scale)\n",
    "abs_f_ec = abs_f_einstein(n_particles = num_particles,lambda_de_broglie=MW_SIGMA,volume=vol,beta=state.beta,einstein_spring_constant=k_EC)\n"
   ]
  },
  {
   "cell_type": "markdown",
   "metadata": {},
   "source": [
    "Now we can add the Einstein crystal contribution to the results to obtain the absolute free energy.\n"
   ]
  },
  {
   "cell_type": "code",
   "execution_count": null,
   "metadata": {},
   "outputs": [],
   "source": [
    "metrics[\"beta_f_per_particle\"] + abs_f_ec, metrics[\"beta_f_per_particle\"] + abs_f_ec"
   ]
  },
  {
   "cell_type": "markdown",
   "metadata": {},
   "source": [
    "The reference value is $\\beta F / N \\approx -25.86$."
   ]
  },
  {
   "cell_type": "markdown",
   "metadata": {},
   "source": [
    "## Evaluation of trained models\n",
    "Here we can evaluate a model trained at $N=216$. Reference values for the mW ice system are:\n",
    "\n",
    "| System      | $N$  | $\\beta F / N$ |\n",
    "|------------|------|---------------|\n",
    "| Cubic ice  | 64   | -25.163       |\n",
    "| Cubic ice  | 216  | -25.082       |\n",
    "| Cubic ice  | 512  | -25.062       |\n",
    "\n"
   ]
  },
  {
   "cell_type": "code",
   "execution_count": null,
   "metadata": {},
   "outputs": [],
   "source": [
    "system_train = \"mw_cubic_216\"\n",
    "system = \"mw_cubic_512\"\n",
    "lattice, num_particles = _extract_lattice_and_number(system)\n",
    "config = augmented_monatomic_water_config.get_config(num_particles, lattice)\n"
   ]
  },
  {
   "cell_type": "markdown",
   "metadata": {},
   "source": [
    "We need to adjust the hyperparameters to the ones used in training."
   ]
  },
  {
   "cell_type": "code",
   "execution_count": null,
   "metadata": {},
   "outputs": [],
   "source": [
    "config.model.kwargs.bijector.kwargs.conditioner.kwargs.conditioner_kwargs.embedding_size = 96\n",
    "config.model.kwargs.bijector.kwargs.conditioner.kwargs.conditioner_kwargs.n_local = 16\n",
    "config.model.kwargs.bijector.kwargs.num_layers = 10"
   ]
  },
  {
   "cell_type": "code",
   "execution_count": null,
   "metadata": {},
   "outputs": [],
   "source": [
    "config_eval = config_dict.ConfigDict()\n",
    "config_eval.eval_steps=1\n",
    "config_eval.test_size= 1000\n",
    "config_eval.num_splits =5\n",
    "config_eval.seed=np.random.randint(0,1e6)\n",
    "config_eval.return_marginal=False\n",
    "config_eval.filename=f\"params_trained/params-{system_train}.pkl\"\n"
   ]
  },
  {
   "cell_type": "code",
   "execution_count": null,
   "metadata": {},
   "outputs": [],
   "source": [
    "metrics = evaluate(config, config_eval)\n"
   ]
  },
  {
   "cell_type": "code",
   "execution_count": null,
   "metadata": {},
   "outputs": [],
   "source": [
    "k_EC = get_spring_constant(state.beta, config.model.kwargs.base.kwargs.noise_scale)\n"
   ]
  },
  {
   "cell_type": "code",
   "execution_count": null,
   "metadata": {},
   "outputs": [],
   "source": [
    "vol = num_particles / QUIGLEY_DENSITY\n",
    "abs_f_ec = abs_f_einstein(n_particles = num_particles,lambda_de_broglie=MW_SIGMA,volume=vol,beta=state.beta,einstein_spring_constant=k_EC)\n",
    "metrics[\"beta_f_per_particle\"] + abs_f_ec"
   ]
  },
  {
   "cell_type": "code",
   "execution_count": null,
   "metadata": {},
   "outputs": [],
   "source": [
    "from bgmat.utils.observable_utils import radial_distribution_function"
   ]
  },
  {
   "cell_type": "code",
   "execution_count": null,
   "metadata": {},
   "outputs": [],
   "source": [
    "box_length = config.test_energy.kwargs.box_length\n"
   ]
  },
  {
   "cell_type": "code",
   "execution_count": null,
   "metadata": {},
   "outputs": [],
   "source": [
    "\n",
    "generated_samples = metrics[\"samples_mapped\"]\n",
    "generated_energies = metrics[\"energies\"]\n",
    "rdf_mapped =radial_distribution_function(generated_samples, box_length=box_length)\n",
    "\n",
    "# reference MD data\n",
    "rdf_md = np.load(f\"data_md/rdf_md_{system}.npy\")\n",
    "energies_md = np.load(f\"data_md/ene_md_{system}.npy\")\n"
   ]
  },
  {
   "cell_type": "code",
   "execution_count": null,
   "metadata": {},
   "outputs": [],
   "source": [
    "import matplotlib.pyplot as plt\n",
    "import numpy as np\n",
    "\n",
    "energies_md_scaled = state.beta * energies_md / num_particles\n",
    "generated_energies_scaled = state.beta * generated_energies / num_particles\n",
    "\n",
    "fig, axes = plt.subplots(1, 2, figsize=(12, 5))\n",
    "\n",
    "# --- Left: RDF ---\n",
    "ax = axes[0]\n",
    "ax.plot(rdf_md[:,0] / MW_SIGMA, rdf_md[:,1], label=\"MD\", color=\"orange\")\n",
    "ax.plot(rdf_mapped[:,0] / MW_SIGMA, rdf_mapped[:,1], label=\"BG\", color=\"gray\", ls=\"--\")\n",
    "ax.set_xlabel(\"$r / \\sigma$\")\n",
    "ax.set_ylabel(\"$g(r)$\")\n",
    "ax.legend()\n",
    "ax.set_title(\"Radial Distribution Function\")\n",
    "\n",
    "# --- Right: Energy histogram ---\n",
    "ax = axes[1]\n",
    "bins = 25  # adjust as needed\n",
    "ax.hist(energies_md_scaled, bins=bins, alpha=0.6, label=\"MD\", color=\"orange\", density=True)\n",
    "ax.hist(generated_energies_scaled, bins=bins, alpha=0.6, label=\"BG\", color=\"gray\", density=True, histtype=\"step\", linewidth=5)\n",
    "ax.set_xlabel(r\"$u / N$\")\n",
    "ax.set_ylabel(\"Probability density\")\n",
    "ax.legend()\n",
    "ax.set_title(\"Energy Histogram\")\n",
    "plt.subplots_adjust(wspace=0.3)\n",
    "plt.show()\n"
   ]
  },
  {
   "cell_type": "code",
   "execution_count": null,
   "metadata": {},
   "outputs": [],
   "source": []
  }
 ],
 "metadata": {
  "kernelspec": {
   "display_name": "bge_env",
   "language": "python",
   "name": "python3"
  },
  "language_info": {
   "codemirror_mode": {
    "name": "ipython",
    "version": 3
   },
   "file_extension": ".py",
   "mimetype": "text/x-python",
   "name": "python",
   "nbconvert_exporter": "python",
   "pygments_lexer": "ipython3",
   "version": "3.10.8"
  }
 },
 "nbformat": 4,
 "nbformat_minor": 2
}
